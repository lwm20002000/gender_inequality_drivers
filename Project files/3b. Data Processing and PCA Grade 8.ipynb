{
 "cells": [
  {
   "cell_type": "code",
   "execution_count": 1,
   "metadata": {},
   "outputs": [],
   "source": [
    "import pandas as pd\n",
    "import numpy as np\n",
    "import matplotlib.pyplot as plt\n",
    "import seaborn as sns\n",
    "import re\n",
    "\n",
    "from sklearn.preprocessing import StandardScaler\n",
    "\n",
    "import warnings\n",
    "warnings.filterwarnings('ignore')\n",
    "\n",
    "import glob\n",
    "\n",
    "from sklearn.decomposition import PCA\n",
    "\n",
    "#from pandas_profiling import ProfileReport"
   ]
  },
  {
   "cell_type": "markdown",
   "metadata": {},
   "source": [
    "# Import Exported CSV files from Previous Notebooks"
   ]
  },
  {
   "cell_type": "code",
   "execution_count": 2,
   "metadata": {},
   "outputs": [],
   "source": [
    "# Read hdr_df.csv\n",
    "human_development_reports_df = pd.read_csv('hdr_df.csv')\n",
    "\n",
    "# Read country_ids.csv\n",
    "country_ids = pd.read_csv('country_ids.csv')"
   ]
  },
  {
   "cell_type": "markdown",
   "metadata": {},
   "source": [
    "# Read Codebook"
   ]
  },
  {
   "cell_type": "markdown",
   "metadata": {},
   "source": [
    "## 3 columns to focus on: Variable, Label, Value Scheme Detailed"
   ]
  },
  {
   "cell_type": "code",
   "execution_count": 3,
   "metadata": {},
   "outputs": [],
   "source": [
    "def read_codebook(file, sheet1, sheet2):\n",
    "    xls = pd.ExcelFile(file)\n",
    "    student = pd.read_excel(xls, sheet1)\n",
    "    school = pd.read_excel(xls, sheet2)\n",
    "    \n",
    "    return student, school"
   ]
  },
  {
   "cell_type": "code",
   "execution_count": 4,
   "metadata": {},
   "outputs": [],
   "source": [
    "stu_con_8, sch_con_8 = read_codebook('T19_G8_Codebooks/T19_G8_Codebook.xlsx', 'BCGM7', 'BSGM7')"
   ]
  },
  {
   "cell_type": "markdown",
   "metadata": {},
   "source": [
    "# Read Main Data"
   ]
  },
  {
   "cell_type": "code",
   "execution_count": 5,
   "metadata": {},
   "outputs": [],
   "source": [
    "BCG_files = glob.glob('T19_G8_SAS Data/BCG' + \"/*.sas7bdat\")\n",
    "\n",
    "BCG_list = []\n",
    "\n",
    "for file in BCG_files:\n",
    "    BCG = pd.read_sas(file)\n",
    "    BCG_list.append(BCG)\n",
    "\n",
    "#All BCG files; total of 9,925 rows × 98 columns\n",
    "BCG_merged_all = pd.concat(BCG_list, axis=0, ignore_index=True)"
   ]
  },
  {
   "cell_type": "code",
   "execution_count": 6,
   "metadata": {},
   "outputs": [],
   "source": [
    "BSG_files = glob.glob('T19_G8_SAS Data/BSG' + \"/*.sas7bdat\")\n",
    "\n",
    "BSG_list_455 = []\n",
    "BSG_list_357 = []\n",
    "\n",
    "for file in BSG_files:\n",
    "    if len((pd.read_sas(file)).columns) == 455:\n",
    "        BSG_455 = pd.read_sas(file)\n",
    "        BSG_list_455.append(BSG_455)\n",
    "        \n",
    "    elif len((pd.read_sas(file)).columns) == 357:\n",
    "        BSG_357 = pd.read_sas(file)\n",
    "        BSG_list_357.append(BSG_357)\n",
    "\n",
    "#BSG files with 455 columns; total of 219,835 rows × 455 columns\n",
    "BSG_merged_455 = pd.concat(BSG_list_455, axis=0, ignore_index=True)\n",
    "\n",
    "#BSG files with with 357 columns; total of 32,455 rows × 357 columns\n",
    "BSG_merged_357 = pd.concat(BSG_list_357, axis=0, ignore_index=True)\n",
    "\n",
    "#All BSG files; total of 252290 rows × 455 columns\n",
    "BSG_merged_all = pd.concat([BSG_merged_455, BSG_merged_357], axis=0, ignore_index=True)"
   ]
  },
  {
   "cell_type": "code",
   "execution_count": 7,
   "metadata": {},
   "outputs": [],
   "source": [
    "df_8 = BSG_merged_all.merge(BCG_merged_all, how='inner', on=['IDCNTRY', 'IDSCHOOL'])"
   ]
  },
  {
   "cell_type": "markdown",
   "metadata": {},
   "source": [
    "## Specify columns to use for grade 8"
   ]
  },
  {
   "cell_type": "code",
   "execution_count": 8,
   "metadata": {},
   "outputs": [],
   "source": [
    "#Specify columns for PCA\n",
    "math_interest_cols = [col for col in df_8.columns if 'SBM16' in col]\n",
    "math_perception_cols = [col for col in df_8.columns if 'SBM19' in col]\n",
    "math_benefit_cols = [col for col in df_8.columns if 'SBM20' in col]\n",
    "science_interest_cols = [col for col in df_8.columns if 'SBS22' in col]\n",
    "science_perception_cols = [col for col in df_8.columns if 'SBS24' in col]\n",
    "science_benefit_cols = [col for col in df_8.columns if 'SBS25' in col]\n",
    "\n",
    "belong_cols = [col for col in df_8.columns if 'SBG13' in col]\n",
    "bully_cols = [col for col in df_8.columns if 'SBG14' in col]\n",
    "shortage_cols = [col for col in df_8.columns if 'CBG13' in col]\n",
    "school_support_cols = [col for col in df_8.columns if 'CBG15' in col]\n",
    "school_problem_cols = [col for col in df_8.columns if 'CBG16' in col]\n",
    "\n",
    "teacher_support_cols = ['BCBG14A', 'BCBG14B', 'BCBG14C', 'BCBG14D']\n",
    "parents_support_cols = ['BCBG14E', 'BCBG14F', 'BCBG14G', 'BCBG14H']\n",
    "student_motivation_cols = ['BCBG14I', 'BCBG14J', 'BCBG14K']"
   ]
  },
  {
   "cell_type": "code",
   "execution_count": 9,
   "metadata": {},
   "outputs": [],
   "source": [
    "pca_columns = math_interest_cols + math_perception_cols + math_benefit_cols + \\\n",
    "              science_interest_cols + science_perception_cols + science_benefit_cols + \\\n",
    "              belong_cols + bully_cols + shortage_cols + school_support_cols + \\\n",
    "              school_problem_cols + teacher_support_cols + parents_support_cols + \\\n",
    "              student_motivation_cols"
   ]
  },
  {
   "cell_type": "code",
   "execution_count": 10,
   "metadata": {},
   "outputs": [],
   "source": [
    "id_columns = ['IDCNTRY', 'IDSCHOOL', 'IDCLASS', 'IDSTUD']"
   ]
  },
  {
   "cell_type": "code",
   "execution_count": 11,
   "metadata": {},
   "outputs": [],
   "source": [
    "school_general = ['BCBG03A', 'BCBG05B', 'BCBG06A', 'BCBG06B', 'BCBG06C', 'BCBG07', 'BCBG08A', 'BCBG10B', 'BCBG12']"
   ]
  },
  {
   "cell_type": "code",
   "execution_count": 12,
   "metadata": {},
   "outputs": [],
   "source": [
    "student_general = ['BSBG01', 'BSBG03', 'BSBG04', 'BSBG05A', 'BSBG05B', 'BSBG05C', 'BSBG05D', 'BSBG06A',\n",
    "                   'BSBG06B', 'BSBG07', 'BSBG10', 'BSBG11A', 'BSBG11B', 'BSBM15']"
   ]
  },
  {
   "cell_type": "code",
   "execution_count": 13,
   "metadata": {},
   "outputs": [],
   "source": [
    "homework_time = [col for col in df_8.columns if 'SBM42B' in col]"
   ]
  },
  {
   "cell_type": "code",
   "execution_count": 14,
   "metadata": {},
   "outputs": [],
   "source": [
    "extra_lessons = [col for col in df_8.columns if 'SBM27A' in col]"
   ]
  },
  {
   "cell_type": "code",
   "execution_count": 15,
   "metadata": {},
   "outputs": [],
   "source": [
    "score_columns = ['BSMMAT01', 'BSSSCI01']"
   ]
  },
  {
   "cell_type": "code",
   "execution_count": 16,
   "metadata": {},
   "outputs": [],
   "source": [
    "all_columns = id_columns + student_general + school_general + pca_columns + student_general + \\\n",
    "              homework_time + extra_lessons + score_columns"
   ]
  },
  {
   "cell_type": "code",
   "execution_count": 17,
   "metadata": {},
   "outputs": [],
   "source": [
    "df_8 = df_8[all_columns]"
   ]
  },
  {
   "cell_type": "code",
   "execution_count": 18,
   "metadata": {},
   "outputs": [],
   "source": [
    "# Drop rows if any of the pca columns is with missing values\n",
    "df_8 = df_8.dropna(axis=0, subset=pca_columns, how='any')"
   ]
  },
  {
   "cell_type": "code",
   "execution_count": 19,
   "metadata": {},
   "outputs": [],
   "source": [
    "# Drop rows if the two main score columns is with missing values\n",
    "df_8 = df_8.dropna(axis=0, subset=score_columns, how='any')"
   ]
  },
  {
   "cell_type": "markdown",
   "metadata": {},
   "source": [
    "## Fix Column Values for Principal Component Analysis"
   ]
  },
  {
   "cell_type": "code",
   "execution_count": 20,
   "metadata": {},
   "outputs": [],
   "source": [
    "# Change column names and map values to match with the direction of the responses of the rest\n",
    "# of the values in the same group (change negative questions to positive ones, and reverse the\n",
    "# values of the answers)\n",
    "\n",
    "def map_values(col_name):\n",
    "    df_8[col_name] = df_8[col_name].map({1: 4, 2: 3, 3: 2, 4:1})\n",
    "    return df_8[col_name]"
   ]
  },
  {
   "cell_type": "code",
   "execution_count": 21,
   "metadata": {},
   "outputs": [],
   "source": [
    "# Identify columns to fix\n",
    "cols_to_fix = ['BSBM16B', 'BSBM16C', 'BSBM19B', 'BSBM19C', 'BSBM19E', 'BSBM19H',\n",
    "               'BSBM19I', 'BSBS22B', 'BSBS22C', 'BSBS24B', 'BSBS24C', 'BSBS24G', \n",
    "               'BSBS24H']"
   ]
  },
  {
   "cell_type": "code",
   "execution_count": 22,
   "metadata": {},
   "outputs": [],
   "source": [
    "# Fix columns\n",
    "for col in cols_to_fix:\n",
    "    map_values(col)"
   ]
  },
  {
   "cell_type": "code",
   "execution_count": 23,
   "metadata": {},
   "outputs": [],
   "source": [
    "# Categorize columns for math and science for PCA\n",
    "math_interest = df_8[math_interest_cols]\n",
    "math_perception = df_8[math_perception_cols]\n",
    "math_benefit = df_8[math_benefit_cols]\n",
    "science_interest = df_8[science_interest_cols]\n",
    "science_perception = df_8[science_perception_cols]\n",
    "science_benefit = df_8[science_benefit_cols]"
   ]
  },
  {
   "cell_type": "code",
   "execution_count": 24,
   "metadata": {},
   "outputs": [],
   "source": [
    "# Categorize columns for other measures for PCA\n",
    "belong = df_8[belong_cols]\n",
    "bully = df_8[bully_cols]\n",
    "shortage = df_8[shortage_cols]\n",
    "school_support = df_8[school_support_cols]\n",
    "school_problem = df_8[school_problem_cols]\n",
    "\n",
    "teacher_support = df_8[teacher_support_cols]\n",
    "parents_support = df_8[parents_support_cols]\n",
    "student_motivation = df_8[student_motivation_cols]"
   ]
  },
  {
   "cell_type": "markdown",
   "metadata": {},
   "source": [
    "# Principal Component Analysis"
   ]
  },
  {
   "cell_type": "code",
   "execution_count": 26,
   "metadata": {},
   "outputs": [],
   "source": [
    "def pca_caculation(df):\n",
    "    \n",
    "    #Specify columns for PCA\n",
    "    X = df[df.columns.tolist()]\n",
    "    \n",
    "    #Scale column values\n",
    "    x = StandardScaler().fit_transform(X)\n",
    "    \n",
    "    #PCA caculation\n",
    "    pca = PCA(n_components=1)\n",
    "    principal_components = pca.fit_transform(x)\n",
    "    \n",
    "    #Add PCA column to dataframe\n",
    "    df['PCA_values'] = principal_components\n",
    "    \n",
    "    return df"
   ]
  },
  {
   "cell_type": "code",
   "execution_count": 27,
   "metadata": {},
   "outputs": [],
   "source": [
    "#All pca dfs\n",
    "pca_dfs = [math_interest, math_perception, math_benefit, science_interest, science_perception, \n",
    "           science_benefit, belong, bully, shortage, school_support, school_problem,\n",
    "           teacher_support, parents_support, student_motivation]"
   ]
  },
  {
   "cell_type": "code",
   "execution_count": 28,
   "metadata": {},
   "outputs": [],
   "source": [
    "#Apply function to all pca dfs\n",
    "for i, df in enumerate(pca_dfs):\n",
    "    df = pca_caculation(df)\n",
    "    df_8[i] = df['PCA_values']"
   ]
  },
  {
   "cell_type": "code",
   "execution_count": 29,
   "metadata": {},
   "outputs": [],
   "source": [
    "df_8 = df_8.drop(pca_columns, axis=1)"
   ]
  },
  {
   "cell_type": "code",
   "execution_count": 30,
   "metadata": {},
   "outputs": [],
   "source": [
    "df_8 = df_8.rename(columns={0: 'math_interest', 1: 'math_perception', 2: 'math_benefit', 3: 'science_interest',\n",
    "                     4: 'science_perception', 5: 'science_benefit', 6: 'belong', 7: 'bully',\n",
    "                     8: 'shortage', 9: 'school_support', 10: 'school_problem', 11: 'teacher_support',\n",
    "                     12: 'parents_support', 13: 'student_motivation'})"
   ]
  },
  {
   "cell_type": "markdown",
   "metadata": {},
   "source": [
    "# Labels"
   ]
  },
  {
   "cell_type": "code",
   "execution_count": 31,
   "metadata": {},
   "outputs": [],
   "source": [
    "# clean stu_con_8 columns to match with df_8\n",
    "stu_con_8_columns = stu_con_8.iloc[2:, 0:2].set_index('Variable')\n",
    "stu_8_labels = stu_con_8_columns.loc[stu_con_8_columns.index.intersection(df_8.columns)].dropna().reset_index()"
   ]
  },
  {
   "cell_type": "code",
   "execution_count": 32,
   "metadata": {},
   "outputs": [],
   "source": [
    "# clean sch_con_4 columns to match with df_4\n",
    "sch_con_8_columns = sch_con_8.iloc[5:, 0:2].set_index('Variable')\n",
    "sch_8_labels = sch_con_8_columns.loc[sch_con_8_columns.index.intersection(df_8.columns)].dropna().reset_index()"
   ]
  },
  {
   "cell_type": "code",
   "execution_count": 33,
   "metadata": {},
   "outputs": [],
   "source": [
    "#merge stu_con_4 and sch_con_4, and replace labels\n",
    "sch_stu_8_labels = stu_8_labels.merge(sch_8_labels, how='outer')\n",
    "sch_stu_8_labels['Label'] = sch_stu_8_labels['Label'].str.lower()\n",
    "\n",
    "sch_stu_8_labels = sch_stu_8_labels.\\\n",
    "                            replace('gen\\\\\\\\', '', regex=True).\\\n",
    "                            replace('students background\\\\\\\\', '', regex=True).\\\n",
    "                            replace('disadva', 'disadvantage', regex=True).\\\n",
    "                            replace('sch character\\\\\\\\', '', regex=True).\\\n",
    "                            replace('tch', 'teacher', regex=True).\\\n",
    "                            replace('sch', 'school', regex=True).\\\n",
    "                            replace('std', 'student', regex=True).\\\n",
    "                            replace('often speak <lang of test> at home', \n",
    "                                    'how often student speak the language of the test at home', regex=True).\\\n",
    "                            replace('amount of books in your home', 'amount of books at home', regex=True).\\\n",
    "                            replace('home possess\\\\\\\\computer tablet', 'computer or tablet at home', regex=True).\\\n",
    "                            replace('home possess\\\\\\\\study desk', 'study desk at home', regex=True).\\\n",
    "                            replace('home possess\\\\\\\\own room', 'own room at home', regex=True).\\\n",
    "                            replace('home possess\\\\\\\\internet connection', 'internet connection at home', regex=True).\\\n",
    "                            replace('how often\\\\\\\\tired', 'how often student is tired', regex=True).\\\n",
    "                            replace('how often\\\\\\\\hungry', 'how often student is hungry', regex=True).\\\n",
    "                            replace('mat\\\\\\\\how often\\\\\\\\work on your own',\n",
    "                                    'how often student works on his/her own in math', regex=True).\\\n",
    "                            replace('sci\\\\\\\\how often conduct experiments',\n",
    "                                    'how often conduct experiments in science', regex=True).\\\n",
    "                            replace('mathematics', 'math', regex=True).\\\n",
    "                            replace('1st plausible value', '', regex=True).\\\n",
    "                            replace('1st pv', '', regex=True).\\\n",
    "                            replace('teacherrs', 'teacher', regex=True).\\\n",
    "                            replace('highest lvl of edu of <parent/guardian a>', \n",
    "                                    'highest level of education of 1st parent/guardian', regex=True).\\\n",
    "                            replace('highest lvl of edu of <parent/guardian b>', \n",
    "                                    'highest level of education of 2nd parent/guardian', regex=True).\\\n",
    "                            replace('how far in edu do you expect to go', \n",
    "                                    'how far in education student is expected to go', regex=True).\\\n",
    "                            replace('about how often absent from schoolool', \n",
    "                                    'how often student is absent from school', regex=True).\\\n",
    "                            replace('math\\\\\\\\work on your own', 'work on your own math', regex=True).\\\n",
    "                            replace('math\\\\\\\\minutes spent on hmwork\\\\\\\\mat', \n",
    "                                    'minutes spent on math homework', regex=True).\\\n",
    "                            replace('math\\\\\\\\extra lessons last 12 month\\\\\\\\math',\n",
    "                                    'extra math lessons in last 12 months', regex=True)"
   ]
  },
  {
   "cell_type": "code",
   "execution_count": 34,
   "metadata": {},
   "outputs": [],
   "source": [
    "# update new labels to df_8\n",
    "new_col_naming = dict(zip(sch_stu_8_labels['index'], sch_stu_8_labels['Label']))\n",
    "df_8 = df_8.rename(columns=new_col_naming)\n",
    "\n",
    "# rename country_ids to match df_8\n",
    "country_ids = country_ids.rename(columns={'country_ID':'IDCNTRY'})"
   ]
  },
  {
   "cell_type": "code",
   "execution_count": 35,
   "metadata": {},
   "outputs": [],
   "source": [
    "# add country names\n",
    "df_8_final = df_8.merge(country_ids)"
   ]
  },
  {
   "cell_type": "code",
   "execution_count": 36,
   "metadata": {},
   "outputs": [],
   "source": [
    "# add human development reports\n",
    "df_8_final = df_8_final.merge(human_development_reports_df)"
   ]
  },
  {
   "cell_type": "code",
   "execution_count": 37,
   "metadata": {},
   "outputs": [],
   "source": [
    "# Export to csv\n",
    "df_8.to_csv('grade_8_hdr.csv', index=False)"
   ]
  },
  {
   "cell_type": "code",
   "execution_count": 38,
   "metadata": {},
   "outputs": [
    {
     "data": {
      "text/html": [
       "<div>\n",
       "<style scoped>\n",
       "    .dataframe tbody tr th:only-of-type {\n",
       "        vertical-align: middle;\n",
       "    }\n",
       "\n",
       "    .dataframe tbody tr th {\n",
       "        vertical-align: top;\n",
       "    }\n",
       "\n",
       "    .dataframe thead th {\n",
       "        text-align: right;\n",
       "    }\n",
       "</style>\n",
       "<table border=\"1\" class=\"dataframe\">\n",
       "  <thead>\n",
       "    <tr style=\"text-align: right;\">\n",
       "      <th></th>\n",
       "      <th>IDCNTRY</th>\n",
       "      <th>IDSCHOOL</th>\n",
       "      <th>IDCLASS</th>\n",
       "      <th>IDSTUD</th>\n",
       "      <th>sex of student</th>\n",
       "      <th>how often student speak the language of the test at home</th>\n",
       "      <th>amount of books at home</th>\n",
       "      <th>computer or tablet at home</th>\n",
       "      <th>study desk at home</th>\n",
       "      <th>own room at home</th>\n",
       "      <th>...</th>\n",
       "      <th>Ratio of education and health expenditure to military expenditure</th>\n",
       "      <th>Gender Inequality Index</th>\n",
       "      <th>GII Rank</th>\n",
       "      <th>Maternal mortality ratio</th>\n",
       "      <th>Adolescent birth rate</th>\n",
       "      <th>Share of seats in parliament held by women</th>\n",
       "      <th>Share at least some secondary education Female</th>\n",
       "      <th>Share at least some secondary education Male</th>\n",
       "      <th>Labour force participation rate Female</th>\n",
       "      <th>Labour force participation rate Male</th>\n",
       "    </tr>\n",
       "  </thead>\n",
       "  <tbody>\n",
       "    <tr>\n",
       "      <th>0</th>\n",
       "      <td>7842.0</td>\n",
       "      <td>5001.0</td>\n",
       "      <td>500102.0</td>\n",
       "      <td>50010202.0</td>\n",
       "      <td>2.0</td>\n",
       "      <td>2.0</td>\n",
       "      <td>2.0</td>\n",
       "      <td>1.0</td>\n",
       "      <td>1.0</td>\n",
       "      <td>1.0</td>\n",
       "      <td>...</td>\n",
       "      <td>NaN</td>\n",
       "      <td>0.079</td>\n",
       "      <td>18.0</td>\n",
       "      <td>3.0</td>\n",
       "      <td>6.546</td>\n",
       "      <td>50.0</td>\n",
       "      <td>76.02257</td>\n",
       "      <td>81.02851</td>\n",
       "      <td>52.391</td>\n",
       "      <td>93.389</td>\n",
       "    </tr>\n",
       "    <tr>\n",
       "      <th>1</th>\n",
       "      <td>7842.0</td>\n",
       "      <td>5001.0</td>\n",
       "      <td>500102.0</td>\n",
       "      <td>50010208.0</td>\n",
       "      <td>2.0</td>\n",
       "      <td>2.0</td>\n",
       "      <td>NaN</td>\n",
       "      <td>1.0</td>\n",
       "      <td>1.0</td>\n",
       "      <td>1.0</td>\n",
       "      <td>...</td>\n",
       "      <td>NaN</td>\n",
       "      <td>0.079</td>\n",
       "      <td>18.0</td>\n",
       "      <td>3.0</td>\n",
       "      <td>6.546</td>\n",
       "      <td>50.0</td>\n",
       "      <td>76.02257</td>\n",
       "      <td>81.02851</td>\n",
       "      <td>52.391</td>\n",
       "      <td>93.389</td>\n",
       "    </tr>\n",
       "    <tr>\n",
       "      <th>2</th>\n",
       "      <td>7842.0</td>\n",
       "      <td>5001.0</td>\n",
       "      <td>500102.0</td>\n",
       "      <td>50010209.0</td>\n",
       "      <td>2.0</td>\n",
       "      <td>2.0</td>\n",
       "      <td>2.0</td>\n",
       "      <td>1.0</td>\n",
       "      <td>1.0</td>\n",
       "      <td>1.0</td>\n",
       "      <td>...</td>\n",
       "      <td>NaN</td>\n",
       "      <td>0.079</td>\n",
       "      <td>18.0</td>\n",
       "      <td>3.0</td>\n",
       "      <td>6.546</td>\n",
       "      <td>50.0</td>\n",
       "      <td>76.02257</td>\n",
       "      <td>81.02851</td>\n",
       "      <td>52.391</td>\n",
       "      <td>93.389</td>\n",
       "    </tr>\n",
       "    <tr>\n",
       "      <th>3</th>\n",
       "      <td>7842.0</td>\n",
       "      <td>5001.0</td>\n",
       "      <td>500102.0</td>\n",
       "      <td>50010210.0</td>\n",
       "      <td>2.0</td>\n",
       "      <td>2.0</td>\n",
       "      <td>2.0</td>\n",
       "      <td>1.0</td>\n",
       "      <td>1.0</td>\n",
       "      <td>1.0</td>\n",
       "      <td>...</td>\n",
       "      <td>NaN</td>\n",
       "      <td>0.079</td>\n",
       "      <td>18.0</td>\n",
       "      <td>3.0</td>\n",
       "      <td>6.546</td>\n",
       "      <td>50.0</td>\n",
       "      <td>76.02257</td>\n",
       "      <td>81.02851</td>\n",
       "      <td>52.391</td>\n",
       "      <td>93.389</td>\n",
       "    </tr>\n",
       "    <tr>\n",
       "      <th>4</th>\n",
       "      <td>7842.0</td>\n",
       "      <td>5001.0</td>\n",
       "      <td>500102.0</td>\n",
       "      <td>50010211.0</td>\n",
       "      <td>2.0</td>\n",
       "      <td>2.0</td>\n",
       "      <td>1.0</td>\n",
       "      <td>1.0</td>\n",
       "      <td>2.0</td>\n",
       "      <td>NaN</td>\n",
       "      <td>...</td>\n",
       "      <td>NaN</td>\n",
       "      <td>0.079</td>\n",
       "      <td>18.0</td>\n",
       "      <td>3.0</td>\n",
       "      <td>6.546</td>\n",
       "      <td>50.0</td>\n",
       "      <td>76.02257</td>\n",
       "      <td>81.02851</td>\n",
       "      <td>52.391</td>\n",
       "      <td>93.389</td>\n",
       "    </tr>\n",
       "    <tr>\n",
       "      <th>...</th>\n",
       "      <td>...</td>\n",
       "      <td>...</td>\n",
       "      <td>...</td>\n",
       "      <td>...</td>\n",
       "      <td>...</td>\n",
       "      <td>...</td>\n",
       "      <td>...</td>\n",
       "      <td>...</td>\n",
       "      <td>...</td>\n",
       "      <td>...</td>\n",
       "      <td>...</td>\n",
       "      <td>...</td>\n",
       "      <td>...</td>\n",
       "      <td>...</td>\n",
       "      <td>...</td>\n",
       "      <td>...</td>\n",
       "      <td>...</td>\n",
       "      <td>...</td>\n",
       "      <td>...</td>\n",
       "      <td>...</td>\n",
       "      <td>...</td>\n",
       "    </tr>\n",
       "    <tr>\n",
       "      <th>115417</th>\n",
       "      <td>784.0</td>\n",
       "      <td>5623.0</td>\n",
       "      <td>562301.0</td>\n",
       "      <td>56230124.0</td>\n",
       "      <td>2.0</td>\n",
       "      <td>1.0</td>\n",
       "      <td>1.0</td>\n",
       "      <td>2.0</td>\n",
       "      <td>2.0</td>\n",
       "      <td>2.0</td>\n",
       "      <td>...</td>\n",
       "      <td>NaN</td>\n",
       "      <td>0.079</td>\n",
       "      <td>18.0</td>\n",
       "      <td>3.0</td>\n",
       "      <td>6.546</td>\n",
       "      <td>50.0</td>\n",
       "      <td>76.02257</td>\n",
       "      <td>81.02851</td>\n",
       "      <td>52.391</td>\n",
       "      <td>93.389</td>\n",
       "    </tr>\n",
       "    <tr>\n",
       "      <th>115418</th>\n",
       "      <td>784.0</td>\n",
       "      <td>5623.0</td>\n",
       "      <td>562301.0</td>\n",
       "      <td>56230126.0</td>\n",
       "      <td>2.0</td>\n",
       "      <td>1.0</td>\n",
       "      <td>4.0</td>\n",
       "      <td>1.0</td>\n",
       "      <td>1.0</td>\n",
       "      <td>2.0</td>\n",
       "      <td>...</td>\n",
       "      <td>NaN</td>\n",
       "      <td>0.079</td>\n",
       "      <td>18.0</td>\n",
       "      <td>3.0</td>\n",
       "      <td>6.546</td>\n",
       "      <td>50.0</td>\n",
       "      <td>76.02257</td>\n",
       "      <td>81.02851</td>\n",
       "      <td>52.391</td>\n",
       "      <td>93.389</td>\n",
       "    </tr>\n",
       "    <tr>\n",
       "      <th>115419</th>\n",
       "      <td>784.0</td>\n",
       "      <td>5623.0</td>\n",
       "      <td>562301.0</td>\n",
       "      <td>56230127.0</td>\n",
       "      <td>2.0</td>\n",
       "      <td>1.0</td>\n",
       "      <td>5.0</td>\n",
       "      <td>1.0</td>\n",
       "      <td>1.0</td>\n",
       "      <td>1.0</td>\n",
       "      <td>...</td>\n",
       "      <td>NaN</td>\n",
       "      <td>0.079</td>\n",
       "      <td>18.0</td>\n",
       "      <td>3.0</td>\n",
       "      <td>6.546</td>\n",
       "      <td>50.0</td>\n",
       "      <td>76.02257</td>\n",
       "      <td>81.02851</td>\n",
       "      <td>52.391</td>\n",
       "      <td>93.389</td>\n",
       "    </tr>\n",
       "    <tr>\n",
       "      <th>115420</th>\n",
       "      <td>784.0</td>\n",
       "      <td>5623.0</td>\n",
       "      <td>562301.0</td>\n",
       "      <td>56230131.0</td>\n",
       "      <td>2.0</td>\n",
       "      <td>1.0</td>\n",
       "      <td>2.0</td>\n",
       "      <td>1.0</td>\n",
       "      <td>1.0</td>\n",
       "      <td>1.0</td>\n",
       "      <td>...</td>\n",
       "      <td>NaN</td>\n",
       "      <td>0.079</td>\n",
       "      <td>18.0</td>\n",
       "      <td>3.0</td>\n",
       "      <td>6.546</td>\n",
       "      <td>50.0</td>\n",
       "      <td>76.02257</td>\n",
       "      <td>81.02851</td>\n",
       "      <td>52.391</td>\n",
       "      <td>93.389</td>\n",
       "    </tr>\n",
       "    <tr>\n",
       "      <th>115421</th>\n",
       "      <td>784.0</td>\n",
       "      <td>5623.0</td>\n",
       "      <td>562301.0</td>\n",
       "      <td>56230132.0</td>\n",
       "      <td>2.0</td>\n",
       "      <td>1.0</td>\n",
       "      <td>3.0</td>\n",
       "      <td>1.0</td>\n",
       "      <td>1.0</td>\n",
       "      <td>2.0</td>\n",
       "      <td>...</td>\n",
       "      <td>NaN</td>\n",
       "      <td>0.079</td>\n",
       "      <td>18.0</td>\n",
       "      <td>3.0</td>\n",
       "      <td>6.546</td>\n",
       "      <td>50.0</td>\n",
       "      <td>76.02257</td>\n",
       "      <td>81.02851</td>\n",
       "      <td>52.391</td>\n",
       "      <td>93.389</td>\n",
       "    </tr>\n",
       "  </tbody>\n",
       "</table>\n",
       "<p>115422 rows × 143 columns</p>\n",
       "</div>"
      ],
      "text/plain": [
       "        IDCNTRY  IDSCHOOL   IDCLASS      IDSTUD  sex of student  \\\n",
       "0        7842.0    5001.0  500102.0  50010202.0             2.0   \n",
       "1        7842.0    5001.0  500102.0  50010208.0             2.0   \n",
       "2        7842.0    5001.0  500102.0  50010209.0             2.0   \n",
       "3        7842.0    5001.0  500102.0  50010210.0             2.0   \n",
       "4        7842.0    5001.0  500102.0  50010211.0             2.0   \n",
       "...         ...       ...       ...         ...             ...   \n",
       "115417    784.0    5623.0  562301.0  56230124.0             2.0   \n",
       "115418    784.0    5623.0  562301.0  56230126.0             2.0   \n",
       "115419    784.0    5623.0  562301.0  56230127.0             2.0   \n",
       "115420    784.0    5623.0  562301.0  56230131.0             2.0   \n",
       "115421    784.0    5623.0  562301.0  56230132.0             2.0   \n",
       "\n",
       "        how often student speak the language of the test at home  \\\n",
       "0                                                     2.0          \n",
       "1                                                     2.0          \n",
       "2                                                     2.0          \n",
       "3                                                     2.0          \n",
       "4                                                     2.0          \n",
       "...                                                   ...          \n",
       "115417                                                1.0          \n",
       "115418                                                1.0          \n",
       "115419                                                1.0          \n",
       "115420                                                1.0          \n",
       "115421                                                1.0          \n",
       "\n",
       "        amount of books at home  computer or tablet at home  \\\n",
       "0                           2.0                         1.0   \n",
       "1                           NaN                         1.0   \n",
       "2                           2.0                         1.0   \n",
       "3                           2.0                         1.0   \n",
       "4                           1.0                         1.0   \n",
       "...                         ...                         ...   \n",
       "115417                      1.0                         2.0   \n",
       "115418                      4.0                         1.0   \n",
       "115419                      5.0                         1.0   \n",
       "115420                      2.0                         1.0   \n",
       "115421                      3.0                         1.0   \n",
       "\n",
       "        study desk at home  own room at home  ...  \\\n",
       "0                      1.0               1.0  ...   \n",
       "1                      1.0               1.0  ...   \n",
       "2                      1.0               1.0  ...   \n",
       "3                      1.0               1.0  ...   \n",
       "4                      2.0               NaN  ...   \n",
       "...                    ...               ...  ...   \n",
       "115417                 2.0               2.0  ...   \n",
       "115418                 1.0               2.0  ...   \n",
       "115419                 1.0               1.0  ...   \n",
       "115420                 1.0               1.0  ...   \n",
       "115421                 1.0               2.0  ...   \n",
       "\n",
       "        Ratio of education and health expenditure to military expenditure  \\\n",
       "0                                                     NaN                   \n",
       "1                                                     NaN                   \n",
       "2                                                     NaN                   \n",
       "3                                                     NaN                   \n",
       "4                                                     NaN                   \n",
       "...                                                   ...                   \n",
       "115417                                                NaN                   \n",
       "115418                                                NaN                   \n",
       "115419                                                NaN                   \n",
       "115420                                                NaN                   \n",
       "115421                                                NaN                   \n",
       "\n",
       "        Gender Inequality Index  GII Rank  Maternal mortality ratio  \\\n",
       "0                         0.079      18.0                       3.0   \n",
       "1                         0.079      18.0                       3.0   \n",
       "2                         0.079      18.0                       3.0   \n",
       "3                         0.079      18.0                       3.0   \n",
       "4                         0.079      18.0                       3.0   \n",
       "...                         ...       ...                       ...   \n",
       "115417                    0.079      18.0                       3.0   \n",
       "115418                    0.079      18.0                       3.0   \n",
       "115419                    0.079      18.0                       3.0   \n",
       "115420                    0.079      18.0                       3.0   \n",
       "115421                    0.079      18.0                       3.0   \n",
       "\n",
       "        Adolescent birth rate  Share of seats in parliament held by women  \\\n",
       "0                       6.546                                        50.0   \n",
       "1                       6.546                                        50.0   \n",
       "2                       6.546                                        50.0   \n",
       "3                       6.546                                        50.0   \n",
       "4                       6.546                                        50.0   \n",
       "...                       ...                                         ...   \n",
       "115417                  6.546                                        50.0   \n",
       "115418                  6.546                                        50.0   \n",
       "115419                  6.546                                        50.0   \n",
       "115420                  6.546                                        50.0   \n",
       "115421                  6.546                                        50.0   \n",
       "\n",
       "        Share at least some secondary education Female  \\\n",
       "0                                             76.02257   \n",
       "1                                             76.02257   \n",
       "2                                             76.02257   \n",
       "3                                             76.02257   \n",
       "4                                             76.02257   \n",
       "...                                                ...   \n",
       "115417                                        76.02257   \n",
       "115418                                        76.02257   \n",
       "115419                                        76.02257   \n",
       "115420                                        76.02257   \n",
       "115421                                        76.02257   \n",
       "\n",
       "        Share at least some secondary education Male  \\\n",
       "0                                           81.02851   \n",
       "1                                           81.02851   \n",
       "2                                           81.02851   \n",
       "3                                           81.02851   \n",
       "4                                           81.02851   \n",
       "...                                              ...   \n",
       "115417                                      81.02851   \n",
       "115418                                      81.02851   \n",
       "115419                                      81.02851   \n",
       "115420                                      81.02851   \n",
       "115421                                      81.02851   \n",
       "\n",
       "        Labour force participation rate Female  \\\n",
       "0                                       52.391   \n",
       "1                                       52.391   \n",
       "2                                       52.391   \n",
       "3                                       52.391   \n",
       "4                                       52.391   \n",
       "...                                        ...   \n",
       "115417                                  52.391   \n",
       "115418                                  52.391   \n",
       "115419                                  52.391   \n",
       "115420                                  52.391   \n",
       "115421                                  52.391   \n",
       "\n",
       "        Labour force participation rate Male  \n",
       "0                                     93.389  \n",
       "1                                     93.389  \n",
       "2                                     93.389  \n",
       "3                                     93.389  \n",
       "4                                     93.389  \n",
       "...                                      ...  \n",
       "115417                                93.389  \n",
       "115418                                93.389  \n",
       "115419                                93.389  \n",
       "115420                                93.389  \n",
       "115421                                93.389  \n",
       "\n",
       "[115422 rows x 143 columns]"
      ]
     },
     "execution_count": 38,
     "metadata": {},
     "output_type": "execute_result"
    }
   ],
   "source": [
    "df_8_final"
   ]
  },
  {
   "cell_type": "markdown",
   "metadata": {},
   "source": [
    "# Factor Loadings"
   ]
  },
  {
   "cell_type": "code",
   "execution_count": 39,
   "metadata": {},
   "outputs": [],
   "source": [
    "def get_factor_loadings(df):\n",
    "    cols = [col for col in df.columns if col != 'PCA_values']\n",
    "    df = df[cols]\n",
    "    x = StandardScaler().fit_transform(df)\n",
    "    pca = PCA(n_components=1)\n",
    "    pca.fit(x)\n",
    "    loadings = pca.components_ * np.sqrt(pca.explained_variance_)\n",
    "    loadings_df = pd.DataFrame({'variable': df.columns.tolist(), 'loading': loadings[0]})\n",
    "    return loadings_df"
   ]
  },
  {
   "cell_type": "code",
   "execution_count": 40,
   "metadata": {},
   "outputs": [],
   "source": [
    "f_loading = get_factor_loadings(science_interest)"
   ]
  },
  {
   "cell_type": "code",
   "execution_count": 41,
   "metadata": {},
   "outputs": [],
   "source": [
    "tempt_df = sch_con_8_columns.reset_index()"
   ]
  },
  {
   "cell_type": "code",
   "execution_count": 42,
   "metadata": {},
   "outputs": [],
   "source": [
    "col_naming = dict(zip(tempt_df['Variable'], tempt_df['Label']))"
   ]
  },
  {
   "cell_type": "code",
   "execution_count": 43,
   "metadata": {},
   "outputs": [],
   "source": [
    "f_loading['variable'] = f_loading['variable'].map(col_naming)"
   ]
  },
  {
   "cell_type": "code",
   "execution_count": 44,
   "metadata": {},
   "outputs": [
    {
     "data": {
      "text/html": [
       "<div>\n",
       "<style scoped>\n",
       "    .dataframe tbody tr th:only-of-type {\n",
       "        vertical-align: middle;\n",
       "    }\n",
       "\n",
       "    .dataframe tbody tr th {\n",
       "        vertical-align: top;\n",
       "    }\n",
       "\n",
       "    .dataframe thead th {\n",
       "        text-align: right;\n",
       "    }\n",
       "</style>\n",
       "<table border=\"1\" class=\"dataframe\">\n",
       "  <thead>\n",
       "    <tr style=\"text-align: right;\">\n",
       "      <th></th>\n",
       "      <th>variable</th>\n",
       "      <th>loading</th>\n",
       "    </tr>\n",
       "  </thead>\n",
       "  <tbody>\n",
       "    <tr>\n",
       "      <th>0</th>\n",
       "      <td>SCI\\AGREE\\ENJOY LEARNING SCIENCE</td>\n",
       "      <td>0.861074</td>\n",
       "    </tr>\n",
       "    <tr>\n",
       "      <th>1</th>\n",
       "      <td>SCI\\AGREE\\WISH HAVE NOT TO STUDY SCIENCE</td>\n",
       "      <td>0.615526</td>\n",
       "    </tr>\n",
       "    <tr>\n",
       "      <th>2</th>\n",
       "      <td>SCI\\AGREE\\SCIENCE IS BORING</td>\n",
       "      <td>0.668109</td>\n",
       "    </tr>\n",
       "    <tr>\n",
       "      <th>3</th>\n",
       "      <td>SCI\\AGREE\\LEARN INTERESTING THINGS</td>\n",
       "      <td>0.793355</td>\n",
       "    </tr>\n",
       "    <tr>\n",
       "      <th>4</th>\n",
       "      <td>SCI\\AGREE\\LIKE SCIENCE</td>\n",
       "      <td>0.901496</td>\n",
       "    </tr>\n",
       "    <tr>\n",
       "      <th>5</th>\n",
       "      <td>SCI\\AGREE\\LOOK FORWARD TO LEARN SCI</td>\n",
       "      <td>0.855421</td>\n",
       "    </tr>\n",
       "    <tr>\n",
       "      <th>6</th>\n",
       "      <td>SCI\\AGREE\\HOW THINGS WORK</td>\n",
       "      <td>0.722778</td>\n",
       "    </tr>\n",
       "    <tr>\n",
       "      <th>7</th>\n",
       "      <td>SCI\\AGREE\\LIKE SCIENCE EXPERIMENTS</td>\n",
       "      <td>0.611409</td>\n",
       "    </tr>\n",
       "    <tr>\n",
       "      <th>8</th>\n",
       "      <td>SCI\\AGREE\\FAVORITE SUBJECT</td>\n",
       "      <td>0.865509</td>\n",
       "    </tr>\n",
       "  </tbody>\n",
       "</table>\n",
       "</div>"
      ],
      "text/plain": [
       "                                   variable   loading\n",
       "0          SCI\\AGREE\\ENJOY LEARNING SCIENCE  0.861074\n",
       "1  SCI\\AGREE\\WISH HAVE NOT TO STUDY SCIENCE  0.615526\n",
       "2               SCI\\AGREE\\SCIENCE IS BORING  0.668109\n",
       "3        SCI\\AGREE\\LEARN INTERESTING THINGS  0.793355\n",
       "4                    SCI\\AGREE\\LIKE SCIENCE  0.901496\n",
       "5       SCI\\AGREE\\LOOK FORWARD TO LEARN SCI  0.855421\n",
       "6                 SCI\\AGREE\\HOW THINGS WORK  0.722778\n",
       "7        SCI\\AGREE\\LIKE SCIENCE EXPERIMENTS  0.611409\n",
       "8                SCI\\AGREE\\FAVORITE SUBJECT  0.865509"
      ]
     },
     "execution_count": 44,
     "metadata": {},
     "output_type": "execute_result"
    }
   ],
   "source": [
    "f_loading"
   ]
  },
  {
   "cell_type": "code",
   "execution_count": 46,
   "metadata": {},
   "outputs": [],
   "source": [
    "# f_loading.to_csv('f_loading_8_sci_int.csv', index=False)"
   ]
  },
  {
   "cell_type": "code",
   "execution_count": null,
   "metadata": {},
   "outputs": [],
   "source": []
  }
 ],
 "metadata": {
  "kernelspec": {
   "display_name": "Python 3",
   "language": "python",
   "name": "python3"
  },
  "language_info": {
   "codemirror_mode": {
    "name": "ipython",
    "version": 3
   },
   "file_extension": ".py",
   "mimetype": "text/x-python",
   "name": "python",
   "nbconvert_exporter": "python",
   "pygments_lexer": "ipython3",
   "version": "3.8.2"
  }
 },
 "nbformat": 4,
 "nbformat_minor": 4
}
