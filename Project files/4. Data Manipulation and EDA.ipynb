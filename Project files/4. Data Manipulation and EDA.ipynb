{
 "cells": [
  {
   "cell_type": "code",
   "execution_count": 1,
   "metadata": {},
   "outputs": [],
   "source": [
    "import pandas as pd\n",
    "import numpy as np\n",
    "import matplotlib.pyplot as plt\n",
    "import seaborn as sns\n",
    "import re\n",
    "\n",
    "import warnings\n",
    "warnings.filterwarnings('ignore')\n",
    "\n",
    "import altair as alt\n",
    "\n",
    "from pandas_profiling import ProfileReport"
   ]
  },
  {
   "cell_type": "markdown",
   "metadata": {},
   "source": [
    "# Load data for each grade"
   ]
  },
  {
   "cell_type": "code",
   "execution_count": 2,
   "metadata": {},
   "outputs": [],
   "source": [
    "df_4 = pd.read_csv('grade_4_hdr.csv')"
   ]
  },
  {
   "cell_type": "code",
   "execution_count": 3,
   "metadata": {},
   "outputs": [],
   "source": [
    "df_8 = pd.read_csv('grade_8_hdr.csv')"
   ]
  },
  {
   "cell_type": "code",
   "execution_count": 4,
   "metadata": {},
   "outputs": [],
   "source": [
    "df_4 = df_4.drop(columns=['country_ID'])"
   ]
  },
  {
   "cell_type": "code",
   "execution_count": 5,
   "metadata": {},
   "outputs": [],
   "source": [
    "df_4 = df_4.drop_duplicates(subset=['IDSTUD'])"
   ]
  },
  {
   "cell_type": "code",
   "execution_count": 6,
   "metadata": {},
   "outputs": [],
   "source": [
    "df_8 = df_8.drop(columns=['country_ID'])"
   ]
  },
  {
   "cell_type": "code",
   "execution_count": 7,
   "metadata": {},
   "outputs": [],
   "source": [
    "df_8 = df_8.drop_duplicates(subset=['IDSTUD'])"
   ]
  },
  {
   "cell_type": "markdown",
   "metadata": {},
   "source": [
    "# Missing values identification"
   ]
  },
  {
   "cell_type": "code",
   "execution_count": 8,
   "metadata": {},
   "outputs": [],
   "source": [
    "def missing_per_df(df):\n",
    "    \n",
    "    # Caculate percentage of missing value per column\n",
    "    percent_missing = df.isnull().sum() * 100 / len(df)\n",
    "    \n",
    "    # Create a dataframe\n",
    "    missing_value_df = pd.DataFrame({'column_name': df.columns,\n",
    "                                     'percent_missing': percent_missing}).reset_index().drop(columns='index')\n",
    "    # Sort dataframe by percent missing\n",
    "    missing_value_df.sort_values('percent_missing', inplace=True, ascending=False)\n",
    "    \n",
    "    return missing_value_df.head(10)"
   ]
  },
  {
   "cell_type": "code",
   "execution_count": 9,
   "metadata": {},
   "outputs": [
    {
     "data": {
      "text/html": [
       "<div>\n",
       "<style scoped>\n",
       "    .dataframe tbody tr th:only-of-type {\n",
       "        vertical-align: middle;\n",
       "    }\n",
       "\n",
       "    .dataframe tbody tr th {\n",
       "        vertical-align: top;\n",
       "    }\n",
       "\n",
       "    .dataframe thead th {\n",
       "        text-align: right;\n",
       "    }\n",
       "</style>\n",
       "<table border=\"1\" class=\"dataframe\">\n",
       "  <thead>\n",
       "    <tr style=\"text-align: right;\">\n",
       "      <th></th>\n",
       "      <th>column_name</th>\n",
       "      <th>percent_missing</th>\n",
       "    </tr>\n",
       "  </thead>\n",
       "  <tbody>\n",
       "    <tr>\n",
       "      <th>89</th>\n",
       "      <td>Secondary schools with access to the Internet</td>\n",
       "      <td>50.758354</td>\n",
       "    </tr>\n",
       "    <tr>\n",
       "      <th>88</th>\n",
       "      <td>Primary schools with access to the Internet</td>\n",
       "      <td>50.758354</td>\n",
       "    </tr>\n",
       "    <tr>\n",
       "      <th>68</th>\n",
       "      <td>Youth literacy rate Female</td>\n",
       "      <td>38.316360</td>\n",
       "    </tr>\n",
       "    <tr>\n",
       "      <th>69</th>\n",
       "      <td>Youth literacy rate Male</td>\n",
       "      <td>38.316360</td>\n",
       "    </tr>\n",
       "    <tr>\n",
       "      <th>77</th>\n",
       "      <td>Government expenditure on education</td>\n",
       "      <td>36.271762</td>\n",
       "    </tr>\n",
       "    <tr>\n",
       "      <th>95</th>\n",
       "      <td>Share of population with safe drinking water</td>\n",
       "      <td>25.525554</td>\n",
       "    </tr>\n",
       "    <tr>\n",
       "      <th>75</th>\n",
       "      <td>Primary school dropout rate</td>\n",
       "      <td>25.422779</td>\n",
       "    </tr>\n",
       "    <tr>\n",
       "      <th>76</th>\n",
       "      <td>Lower secondary retention</td>\n",
       "      <td>24.164564</td>\n",
       "    </tr>\n",
       "    <tr>\n",
       "      <th>71</th>\n",
       "      <td>Pre-primary</td>\n",
       "      <td>21.797627</td>\n",
       "    </tr>\n",
       "    <tr>\n",
       "      <th>74</th>\n",
       "      <td>Tertiary</td>\n",
       "      <td>21.757140</td>\n",
       "    </tr>\n",
       "  </tbody>\n",
       "</table>\n",
       "</div>"
      ],
      "text/plain": [
       "                                      column_name  percent_missing\n",
       "89  Secondary schools with access to the Internet        50.758354\n",
       "88    Primary schools with access to the Internet        50.758354\n",
       "68                     Youth literacy rate Female        38.316360\n",
       "69                       Youth literacy rate Male        38.316360\n",
       "77            Government expenditure on education        36.271762\n",
       "95   Share of population with safe drinking water        25.525554\n",
       "75                    Primary school dropout rate        25.422779\n",
       "76                      Lower secondary retention        24.164564\n",
       "71                                    Pre-primary        21.797627\n",
       "74                                       Tertiary        21.757140"
      ]
     },
     "execution_count": 9,
     "metadata": {},
     "output_type": "execute_result"
    }
   ],
   "source": [
    "missing_per_df(df_4)"
   ]
  },
  {
   "cell_type": "markdown",
   "metadata": {},
   "source": [
    "# Missing values manipulation"
   ]
  },
  {
   "cell_type": "code",
   "execution_count": 10,
   "metadata": {},
   "outputs": [],
   "source": [
    "def fillna(df):\n",
    "    \n",
    "    # Columns to ignore when filling na\n",
    "    id_cols = ['IDCNTRY', 'IDSCHOOL', 'IDCLASS', 'IDSTUD', 'Country', 'grade_4', 'grade_8']\n",
    "\n",
    "    # Columns to fill na\n",
    "    cols = [col for col in df.columns if col not in id_cols]\n",
    "\n",
    "    # Columns to group by\n",
    "    groupby_cols = ['IDCNTRY', 'IDSCHOOL', 'IDCLASS']\n",
    "    \n",
    "    # Fillna by three layers of identifications\n",
    "    for i in range(3, 0, -1):\n",
    "        group_cols = groupby_cols[0:i]\n",
    "        for col in cols:\n",
    "            df[col] = df.groupby(group_cols)[col].apply(lambda x: x.fillna(x.median()))\n",
    "    \n",
    "    # Fillna of the residuals with new category\n",
    "    df = df.fillna('No Information')\n",
    "    \n",
    "    return df"
   ]
  },
  {
   "cell_type": "code",
   "execution_count": 11,
   "metadata": {},
   "outputs": [],
   "source": [
    "# Fillna for both grades\n",
    "df_4 = fillna(df_4)\n",
    "df_8 = fillna(df_8)"
   ]
  },
  {
   "cell_type": "code",
   "execution_count": 12,
   "metadata": {},
   "outputs": [],
   "source": [
    "# # Export to csv\n",
    "# df_4.to_csv('grade_4_final.csv', index=False)\n",
    "# df_8.to_csv('grade_8_final.csv', index=False)"
   ]
  },
  {
   "cell_type": "code",
   "execution_count": 13,
   "metadata": {},
   "outputs": [],
   "source": [
    "# Create profile reports\n",
    "# profile4 = ProfileReport(df_4, title='Grade 4 Report')\n",
    "# profile4.to_file(\"grade_4_report.html\")\n",
    "# profile8 = ProfileReport(df_8, title='Grade 8 Report')\n",
    "# profile8.to_file(\"grade_8_report.html\")"
   ]
  },
  {
   "cell_type": "code",
   "execution_count": null,
   "metadata": {},
   "outputs": [],
   "source": []
  }
 ],
 "metadata": {
  "kernelspec": {
   "display_name": "Python 3",
   "language": "python",
   "name": "python3"
  },
  "language_info": {
   "codemirror_mode": {
    "name": "ipython",
    "version": 3
   },
   "file_extension": ".py",
   "mimetype": "text/x-python",
   "name": "python",
   "nbconvert_exporter": "python",
   "pygments_lexer": "ipython3",
   "version": "3.8.2"
  }
 },
 "nbformat": 4,
 "nbformat_minor": 4
}
