{
 "cells": [
  {
   "cell_type": "code",
   "execution_count": 1,
   "metadata": {},
   "outputs": [],
   "source": [
    "import pandas as pd\n",
    "import numpy as np\n",
    "import matplotlib.pyplot as plt\n",
    "import seaborn as sns\n",
    "import re\n",
    "\n",
    "from sklearn.preprocessing import StandardScaler\n",
    "\n",
    "import warnings\n",
    "warnings.filterwarnings('ignore')\n",
    "\n",
    "import glob\n",
    "\n",
    "from sklearn.decomposition import PCA\n",
    "\n",
    "#from pandas_profiling import ProfileReport"
   ]
  },
  {
   "cell_type": "markdown",
   "metadata": {},
   "source": [
    "# Import Exported CSV files from Previous Notebooks"
   ]
  },
  {
   "cell_type": "code",
   "execution_count": 2,
   "metadata": {},
   "outputs": [],
   "source": [
    "# Read hdr_df.csv\n",
    "human_development_reports_df = pd.read_csv('hdr_df.csv')\n",
    "\n",
    "# Read country_ids.csv\n",
    "country_ids = pd.read_csv('country_ids.csv')"
   ]
  },
  {
   "cell_type": "markdown",
   "metadata": {},
   "source": [
    "# Read Codebook"
   ]
  },
  {
   "cell_type": "markdown",
   "metadata": {},
   "source": [
    "## 3 columns to focus on: Variable, Label, Value Scheme Detailed"
   ]
  },
  {
   "cell_type": "code",
   "execution_count": 3,
   "metadata": {},
   "outputs": [],
   "source": [
    "def read_codebook(file, sheet1, sheet2):\n",
    "    xls = pd.ExcelFile(file)\n",
    "    student = pd.read_excel(xls, sheet1)\n",
    "    school = pd.read_excel(xls, sheet2)\n",
    "    \n",
    "    return student, school"
   ]
  },
  {
   "cell_type": "code",
   "execution_count": 4,
   "metadata": {},
   "outputs": [],
   "source": [
    "stu_con_4, sch_con_4 = read_codebook('T19_G4_Codebooks/T19_G4_Codebook.xlsx', 'ACGM7', 'ASGM7')"
   ]
  },
  {
   "cell_type": "markdown",
   "metadata": {},
   "source": [
    "# Read Main Data"
   ]
  },
  {
   "cell_type": "code",
   "execution_count": 5,
   "metadata": {},
   "outputs": [],
   "source": [
    "ACG_files = glob.glob('T19_G4_SAS Data/ACG' + \"/*.sas7bdat\")\n",
    "\n",
    "ACG_list = []\n",
    "count_ACG_list = []\n",
    "\n",
    "for file in ACG_files:\n",
    "    ACG = pd.read_sas(file)\n",
    "    ACG_list.append(ACG)\n",
    "\n",
    "#All BCG files; total of 14,391 rows × 102 columns\n",
    "ACG_merged_all = pd.concat(ACG_list, axis=0, ignore_index=True)"
   ]
  },
  {
   "cell_type": "code",
   "execution_count": 6,
   "metadata": {},
   "outputs": [],
   "source": [
    "ASG_files = glob.glob('T19_G4_SAS Data/ASG' + \"/*.sas7bdat\")\n",
    "\n",
    "ASG_list_239 = []\n",
    "ASG_list_159 = []\n",
    "\n",
    "for file in ASG_files:\n",
    "    if len((pd.read_sas(file)).columns) == 239:\n",
    "        ASG_239 = pd.read_sas(file)\n",
    "        ASG_list_239.append(ASG_239)\n",
    "        \n",
    "    elif len((pd.read_sas(file)).columns) == 159:\n",
    "        ASG_159 = pd.read_sas(file)\n",
    "        ASG_list_159.append(ASG_159)\n",
    "\n",
    "#ASG files with 239 columns; total of 339,811 rows × 239 columns\n",
    "#ASG files with 159 columns; total of 47,416 rows × 159 columns\n",
    "ASG_merged_239 = pd.concat(ASG_list_239, axis=0, ignore_index=True)\n",
    "ASG_merged_159 = pd.concat(ASG_list_159, axis=0, ignore_index=True)\n",
    "\n",
    "#All ASG files; total of 387,227 rows × 239 columns\n",
    "ASG_merged_all = pd.concat([ASG_merged_159, ASG_merged_239], axis=0, ignore_index=True)"
   ]
  },
  {
   "cell_type": "code",
   "execution_count": 7,
   "metadata": {},
   "outputs": [],
   "source": [
    "df_4 = ASG_merged_all.merge(ACG_merged_all, how='inner', on=['IDCNTRY', 'IDSCHOOL'])"
   ]
  },
  {
   "cell_type": "markdown",
   "metadata": {},
   "source": [
    "## Specify columns to use for grade 4"
   ]
  },
  {
   "cell_type": "code",
   "execution_count": 8,
   "metadata": {},
   "outputs": [],
   "source": [
    "#Specify columns for PCA\n",
    "shortage_cols = [col for col in df_4.columns if 'CBG13' in col]\n",
    "school_problem_cols = [col for col in df_4.columns if 'CBG15' in col]\n",
    "primary_compedency_cols = [col for col in df_4.columns if 'CBG17' in col]\n",
    "\n",
    "math_interest_cols = [col for col in df_4.columns if 'SBM02' in col]\n",
    "math_teacher_cols = [col for col in df_4.columns if 'SBM03' in col]\n",
    "math_perception_cols = [col for col in df_4.columns if 'SBM05' in col]\n",
    "\n",
    "science_interest_cols = [col for col in df_4.columns if 'SBS07' in col]\n",
    "science_teacher_cols = [col for col in df_4.columns if 'SBS08' in col]\n",
    "science_perception_cols = [col for col in df_4.columns if 'SBS09' in col]\n",
    "\n",
    "belong_cols = [col for col in df_4.columns if 'SBG10' in col]\n",
    "bully_cols = [col for col in df_4.columns if 'SBG11' in col]\n",
    "\n",
    "teacher_support_cols = ['ACBG14A', 'ACBG14B', 'ACBG14C', 'ACBG14D']\n",
    "parents_support_cols = ['ACBG14E', 'ACBG14F', 'ACBG14G', 'ACBG14H']\n",
    "student_motivation_cols = ['ACBG14I', 'ACBG14J', 'ACBG14K']"
   ]
  },
  {
   "cell_type": "code",
   "execution_count": 9,
   "metadata": {},
   "outputs": [],
   "source": [
    "pca_columns = math_interest_cols + math_teacher_cols + math_perception_cols + \\\n",
    "              science_interest_cols + science_teacher_cols + science_perception_cols + \\\n",
    "              belong_cols + bully_cols + shortage_cols + school_problem_cols + \\\n",
    "              primary_compedency_cols + teacher_support_cols + parents_support_cols + \\\n",
    "              student_motivation_cols"
   ]
  },
  {
   "cell_type": "code",
   "execution_count": 10,
   "metadata": {},
   "outputs": [],
   "source": [
    "id_columns = ['IDCNTRY', 'IDSCHOOL', 'IDCLASS', 'IDSTUD']"
   ]
  },
  {
   "cell_type": "code",
   "execution_count": 11,
   "metadata": {},
   "outputs": [],
   "source": [
    "school_general = ['ACBG03A', 'ACBG05B', 'ACBG06A', 'ACBG06B', 'ACBG06C', 'ACBG07', 'ACBG08A', 'ACBG10B', 'ACBG12']"
   ]
  },
  {
   "cell_type": "code",
   "execution_count": 12,
   "metadata": {},
   "outputs": [],
   "source": [
    "student_general = ['ASBG01', 'ASBG03', 'ASBG04', 'ASBG05A', 'ASBG05B', 'ASBG05C', 'ASBG05D',\n",
    "                   'ASBG09A', 'ASBG09B', 'ASBM01', 'ASBS06', ]"
   ]
  },
  {
   "cell_type": "code",
   "execution_count": 13,
   "metadata": {},
   "outputs": [],
   "source": [
    "score_columns = ['ASMMAT01', 'ASSSCI01']"
   ]
  },
  {
   "cell_type": "code",
   "execution_count": 14,
   "metadata": {},
   "outputs": [],
   "source": [
    "all_columns = id_columns + student_general  + school_general + pca_columns + score_columns"
   ]
  },
  {
   "cell_type": "code",
   "execution_count": 15,
   "metadata": {},
   "outputs": [],
   "source": [
    "df_4 = df_4[all_columns]"
   ]
  },
  {
   "cell_type": "code",
   "execution_count": 16,
   "metadata": {},
   "outputs": [],
   "source": [
    "# Drop rows if any of the pca columns is with missing values\n",
    "df_4 = df_4.dropna(axis=0, subset=pca_columns, how='any')"
   ]
  },
  {
   "cell_type": "code",
   "execution_count": 17,
   "metadata": {},
   "outputs": [],
   "source": [
    "# Drop rows if the two main score columns is with missing values\n",
    "df_4 = df_4.dropna(axis=0, subset=score_columns, how='any')"
   ]
  },
  {
   "cell_type": "markdown",
   "metadata": {},
   "source": [
    "## Fix Column Values for Principal Component Analysis"
   ]
  },
  {
   "cell_type": "code",
   "execution_count": 18,
   "metadata": {},
   "outputs": [],
   "source": [
    "# Change column names and map values to match with the direction of the responses of the rest\n",
    "# of the values in the same group (change negative questions to positive ones, and reverse the\n",
    "# values of the answers)\n",
    "\n",
    "def map_values(col_name):\n",
    "    df_4[col_name] = df_4[col_name].map({1: 4, 2: 3, 3: 2, 4:1})\n",
    "    return df_4[col_name]"
   ]
  },
  {
   "cell_type": "code",
   "execution_count": 19,
   "metadata": {},
   "outputs": [],
   "source": [
    "# Identify columns to fix\n",
    "cols_to_fix = ['ASBM02B', 'ASBM02C', 'ASBM05B', 'ASBM05C', 'ASBM05E', 'ASBM05H',\n",
    "               'ASBM05I', 'ASBS07B', 'ASBS07C', 'ASBS09B', 'ASBS09C', 'ASBS09F', \n",
    "               'ASBS09G']"
   ]
  },
  {
   "cell_type": "code",
   "execution_count": 20,
   "metadata": {},
   "outputs": [],
   "source": [
    "# Fix columns\n",
    "for col in cols_to_fix:\n",
    "    map_values(col)"
   ]
  },
  {
   "cell_type": "code",
   "execution_count": 21,
   "metadata": {},
   "outputs": [],
   "source": [
    "# Categorize columns for math and science for PCA\n",
    "math_interest = df_4[math_interest_cols]\n",
    "math_perception = df_4[math_perception_cols]\n",
    "math_teacher = df_4[math_teacher_cols]\n",
    "science_interest = df_4[science_interest_cols]\n",
    "science_perception = df_4[science_perception_cols]\n",
    "science_teacher = df_4[science_teacher_cols]"
   ]
  },
  {
   "cell_type": "code",
   "execution_count": 22,
   "metadata": {},
   "outputs": [],
   "source": [
    "# Categorize columns for other measures for PCA\n",
    "belong = df_4[belong_cols]\n",
    "bully = df_4[bully_cols]\n",
    "shortage = df_4[shortage_cols]\n",
    "school_problem = df_4[school_problem_cols]\n",
    "primary_compedency = df_4[primary_compedency_cols]\n",
    "\n",
    "teacher_support = df_4[teacher_support_cols]\n",
    "parents_support = df_4[parents_support_cols]\n",
    "student_motivation = df_4[student_motivation_cols]"
   ]
  },
  {
   "cell_type": "markdown",
   "metadata": {},
   "source": [
    "# Principal Component Analysis"
   ]
  },
  {
   "cell_type": "code",
   "execution_count": 24,
   "metadata": {},
   "outputs": [],
   "source": [
    "def pca_caculation(df):\n",
    "    \n",
    "    #Specify columns for PCA\n",
    "    X = df[df.columns.tolist()]\n",
    "    \n",
    "    #Scale column values\n",
    "    x = StandardScaler().fit_transform(X)\n",
    "    \n",
    "    #PCA caculation\n",
    "    pca = PCA(n_components=1)\n",
    "    principal_components = pca.fit_transform(x)\n",
    "    \n",
    "    #Add PCA column to dataframe\n",
    "    df['PCA_values'] = principal_components\n",
    "    \n",
    "    return df"
   ]
  },
  {
   "cell_type": "code",
   "execution_count": 25,
   "metadata": {},
   "outputs": [],
   "source": [
    "#All pca dfs\n",
    "pca_dfs = [math_interest, math_perception, math_teacher, science_interest, science_perception, \n",
    "           science_teacher, belong, bully, shortage, primary_compedency, school_problem,\n",
    "           teacher_support, parents_support, student_motivation]"
   ]
  },
  {
   "cell_type": "code",
   "execution_count": 26,
   "metadata": {},
   "outputs": [],
   "source": [
    "#Apply function to all pca dfs\n",
    "for i, df in enumerate(pca_dfs):\n",
    "    df = pca_caculation(df)\n",
    "    df_4[i] = df['PCA_values']"
   ]
  },
  {
   "cell_type": "code",
   "execution_count": 27,
   "metadata": {},
   "outputs": [],
   "source": [
    "df_4 = df_4.drop(pca_columns, axis=1)"
   ]
  },
  {
   "cell_type": "code",
   "execution_count": 28,
   "metadata": {},
   "outputs": [],
   "source": [
    "df_4 = df_4.rename(columns={0: 'math_interest', 1: 'math_perception', 2: 'math_teacher', 3: 'science_interest',\n",
    "                     4: 'science_perception', 5: 'science_teacher', 6: 'belong', 7: 'bully',\n",
    "                     8: 'shortage', 9: 'primary_compedency', 10: 'school_problem', 11: 'teacher_support',\n",
    "                     12: 'parents_support', 13: 'student_motivation'})"
   ]
  },
  {
   "cell_type": "markdown",
   "metadata": {},
   "source": [
    "# Labels"
   ]
  },
  {
   "cell_type": "code",
   "execution_count": 29,
   "metadata": {},
   "outputs": [],
   "source": [
    "# clean stu_con_4 columns to match with df_4\n",
    "stu_con_4_columns = stu_con_4.iloc[2:, 0:2].set_index('Variable')\n",
    "stu_4_labels = stu_con_4_columns.loc[stu_con_4_columns.index.intersection(df_4.columns)].dropna().reset_index()"
   ]
  },
  {
   "cell_type": "code",
   "execution_count": 30,
   "metadata": {},
   "outputs": [],
   "source": [
    "# clean sch_con_4 columns to match with df_4\n",
    "sch_con_4_columns = sch_con_4.iloc[5:, 0:2].set_index('Variable')\n",
    "sch_4_labels = sch_con_4_columns.loc[sch_con_4_columns.index.intersection(df_4.columns)].dropna().reset_index()"
   ]
  },
  {
   "cell_type": "code",
   "execution_count": 31,
   "metadata": {},
   "outputs": [],
   "source": [
    "#merge stu_con_4 and sch_con_4, and replace labels\n",
    "sch_stu_4_labels = stu_4_labels.merge(sch_4_labels, how='outer')\n",
    "sch_stu_4_labels['Label'] = sch_stu_4_labels['Label'].str.lower()\n",
    "\n",
    "sch_stu_4_labels = sch_stu_4_labels.\\\n",
    "                            replace('gen\\\\\\\\', '', regex=True).\\\n",
    "                            replace('students background\\\\\\\\', '', regex=True).\\\n",
    "                            replace('disadva', 'disadvantage', regex=True).\\\n",
    "                            replace('sch character\\\\\\\\', '', regex=True).\\\n",
    "                            replace('tch', 'teacher', regex=True).\\\n",
    "                            replace('sch', 'school', regex=True).\\\n",
    "                            replace('std', 'student', regex=True).\\\n",
    "                            replace('often speak <lang of test> at home', \n",
    "                                    'how often student speak the language of the test at home', regex=True).\\\n",
    "                            replace('amount of books in your home', 'amount of books at home', regex=True).\\\n",
    "                            replace('home possess\\\\\\\\computer tablet', 'computer or tablet at home', regex=True).\\\n",
    "                            replace('home possess\\\\\\\\study desk', 'study desk at home', regex=True).\\\n",
    "                            replace('home possess\\\\\\\\own room', 'own room at home', regex=True).\\\n",
    "                            replace('home possess\\\\\\\\internet connection', 'internet connection at home', regex=True).\\\n",
    "                            replace('how often\\\\\\\\tired', 'how often student is tired', regex=True).\\\n",
    "                            replace('how often\\\\\\\\hungry', 'how often student is hungry', regex=True).\\\n",
    "                            replace('mat\\\\\\\\how often\\\\\\\\work on your own',\n",
    "                                    'how often student works on his/her own in math', regex=True).\\\n",
    "                            replace('sci\\\\\\\\how often conduct experiments',\n",
    "                                    'how often conduct experiments in science', regex=True).\\\n",
    "                            replace('mathematics', 'math', regex=True).\\\n",
    "                            replace('1st plausible value', '', regex=True).\\\n",
    "                            replace('1st pv', '', regex=True)"
   ]
  },
  {
   "cell_type": "code",
   "execution_count": 32,
   "metadata": {},
   "outputs": [],
   "source": [
    "# update new labels to df_4\n",
    "new_col_naming = dict(zip(sch_stu_4_labels['index'], sch_stu_4_labels['Label']))\n",
    "df_4 = df_4.rename(columns=new_col_naming)"
   ]
  },
  {
   "cell_type": "code",
   "execution_count": 33,
   "metadata": {},
   "outputs": [],
   "source": [
    "# rename country_ids to match df_4 \n",
    "country_ids = country_ids.rename(columns={'country_ID':'IDCNTRY'})"
   ]
  },
  {
   "cell_type": "code",
   "execution_count": 34,
   "metadata": {},
   "outputs": [],
   "source": [
    "# add country names\n",
    "df_4_final = df_4.merge(country_ids)"
   ]
  },
  {
   "cell_type": "code",
   "execution_count": 35,
   "metadata": {},
   "outputs": [],
   "source": [
    "# add human development reports\n",
    "df_4_final = df_4_final.merge(human_development_reports_df)"
   ]
  },
  {
   "cell_type": "code",
   "execution_count": 44,
   "metadata": {},
   "outputs": [],
   "source": [
    "# Export to csv\n",
    "df_4_final.to_csv('grade_4_hdr.csv', index=False)"
   ]
  },
  {
   "cell_type": "markdown",
   "metadata": {},
   "source": [
    "# Factor Loadings"
   ]
  },
  {
   "cell_type": "code",
   "execution_count": 37,
   "metadata": {},
   "outputs": [],
   "source": [
    "def get_factor_loadings(df):\n",
    "    cols = [col for col in df.columns if col != 'PCA_values']\n",
    "    df = df[cols]\n",
    "    x = StandardScaler().fit_transform(df)\n",
    "    pca = PCA(n_components=1)\n",
    "    pca.fit(x)\n",
    "    loadings = pca.components_ * np.sqrt(pca.explained_variance_)\n",
    "    loadings_df = pd.DataFrame({'variable': df.columns.tolist(), 'loading': loadings[0]})\n",
    "    return loadings_df"
   ]
  },
  {
   "cell_type": "code",
   "execution_count": 38,
   "metadata": {},
   "outputs": [],
   "source": [
    "f_loading = get_factor_loadings(math_interest)"
   ]
  },
  {
   "cell_type": "code",
   "execution_count": 39,
   "metadata": {},
   "outputs": [],
   "source": [
    "tempt_df = sch_con_4_columns.reset_index()"
   ]
  },
  {
   "cell_type": "code",
   "execution_count": 40,
   "metadata": {},
   "outputs": [],
   "source": [
    "col_naming = dict(zip(tempt_df['Variable'], tempt_df['Label']))"
   ]
  },
  {
   "cell_type": "code",
   "execution_count": 41,
   "metadata": {},
   "outputs": [],
   "source": [
    "f_loading['variable'] = f_loading['variable'].map(col_naming)"
   ]
  },
  {
   "cell_type": "code",
   "execution_count": 42,
   "metadata": {},
   "outputs": [
    {
     "data": {
      "text/html": [
       "<div>\n",
       "<style scoped>\n",
       "    .dataframe tbody tr th:only-of-type {\n",
       "        vertical-align: middle;\n",
       "    }\n",
       "\n",
       "    .dataframe tbody tr th {\n",
       "        vertical-align: top;\n",
       "    }\n",
       "\n",
       "    .dataframe thead th {\n",
       "        text-align: right;\n",
       "    }\n",
       "</style>\n",
       "<table border=\"1\" class=\"dataframe\">\n",
       "  <thead>\n",
       "    <tr style=\"text-align: right;\">\n",
       "      <th></th>\n",
       "      <th>variable</th>\n",
       "      <th>loading</th>\n",
       "    </tr>\n",
       "  </thead>\n",
       "  <tbody>\n",
       "    <tr>\n",
       "      <th>0</th>\n",
       "      <td>MAT\\AGREE\\ENJOY LEARNING MATHEMATICS</td>\n",
       "      <td>0.857202</td>\n",
       "    </tr>\n",
       "    <tr>\n",
       "      <th>1</th>\n",
       "      <td>MAT\\AGREE\\WISH HAVE NOT TO STUDY MATH</td>\n",
       "      <td>0.598409</td>\n",
       "    </tr>\n",
       "    <tr>\n",
       "      <th>2</th>\n",
       "      <td>MAT\\AGREE\\MATH IS BORING</td>\n",
       "      <td>0.708597</td>\n",
       "    </tr>\n",
       "    <tr>\n",
       "      <th>3</th>\n",
       "      <td>MAT\\AGREE\\LEARN INTERESTING THINGS</td>\n",
       "      <td>0.720341</td>\n",
       "    </tr>\n",
       "    <tr>\n",
       "      <th>4</th>\n",
       "      <td>MAT\\AGREE\\LIKE MATHEMATICS</td>\n",
       "      <td>0.901646</td>\n",
       "    </tr>\n",
       "    <tr>\n",
       "      <th>5</th>\n",
       "      <td>MAT\\AGREE\\SCHOOLWORK INVOLVES NUMBERS</td>\n",
       "      <td>0.784083</td>\n",
       "    </tr>\n",
       "    <tr>\n",
       "      <th>6</th>\n",
       "      <td>MAT\\AGREE\\LIKE MATH PROBLEMS</td>\n",
       "      <td>0.808883</td>\n",
       "    </tr>\n",
       "    <tr>\n",
       "      <th>7</th>\n",
       "      <td>MAT\\AGREE\\LOOK FORWARD TO MATH LESSONS</td>\n",
       "      <td>0.855337</td>\n",
       "    </tr>\n",
       "    <tr>\n",
       "      <th>8</th>\n",
       "      <td>MAT\\AGREE\\MATH FAVORITE SUBJECT</td>\n",
       "      <td>0.849833</td>\n",
       "    </tr>\n",
       "  </tbody>\n",
       "</table>\n",
       "</div>"
      ],
      "text/plain": [
       "                                 variable   loading\n",
       "0    MAT\\AGREE\\ENJOY LEARNING MATHEMATICS  0.857202\n",
       "1   MAT\\AGREE\\WISH HAVE NOT TO STUDY MATH  0.598409\n",
       "2                MAT\\AGREE\\MATH IS BORING  0.708597\n",
       "3      MAT\\AGREE\\LEARN INTERESTING THINGS  0.720341\n",
       "4              MAT\\AGREE\\LIKE MATHEMATICS  0.901646\n",
       "5   MAT\\AGREE\\SCHOOLWORK INVOLVES NUMBERS  0.784083\n",
       "6            MAT\\AGREE\\LIKE MATH PROBLEMS  0.808883\n",
       "7  MAT\\AGREE\\LOOK FORWARD TO MATH LESSONS  0.855337\n",
       "8         MAT\\AGREE\\MATH FAVORITE SUBJECT  0.849833"
      ]
     },
     "execution_count": 42,
     "metadata": {},
     "output_type": "execute_result"
    }
   ],
   "source": [
    "f_loading"
   ]
  },
  {
   "cell_type": "code",
   "execution_count": 43,
   "metadata": {},
   "outputs": [],
   "source": [
    "# f_loading.to_csv('f_loading_4_mat_int.csv', index=False)"
   ]
  },
  {
   "cell_type": "code",
   "execution_count": null,
   "metadata": {},
   "outputs": [],
   "source": []
  }
 ],
 "metadata": {
  "kernelspec": {
   "display_name": "Python 3",
   "language": "python",
   "name": "python3"
  },
  "language_info": {
   "codemirror_mode": {
    "name": "ipython",
    "version": 3
   },
   "file_extension": ".py",
   "mimetype": "text/x-python",
   "name": "python",
   "nbconvert_exporter": "python",
   "pygments_lexer": "ipython3",
   "version": "3.8.2"
  }
 },
 "nbformat": 4,
 "nbformat_minor": 4
}
